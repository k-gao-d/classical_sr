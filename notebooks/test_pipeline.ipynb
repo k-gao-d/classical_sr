{
 "cells": [
  {
   "cell_type": "code",
   "execution_count": null,
   "id": "91ef33c8",
   "metadata": {},
   "outputs": [],
   "source": [
    "import torch"
   ]
  },
  {
   "cell_type": "code",
   "execution_count": null,
   "id": "1354b110",
   "metadata": {},
   "outputs": [],
   "source": []
  }
 ],
 "metadata": {
  "language_info": {
   "name": "python"
  }
 },
 "nbformat": 4,
 "nbformat_minor": 5
}
