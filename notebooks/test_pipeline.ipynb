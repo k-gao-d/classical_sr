{
 "cells": [
  {
   "cell_type": "code",
   "execution_count": 6,
   "id": "91ef33c8",
   "metadata": {},
   "outputs": [],
   "source": [
    "import torch\n",
    "import os\n",
    "import torchvision.transforms.functional as TF\n",
    "import cv2 as cv\n",
    "device =  \"cuda\" if torch.cuda.is_available() else \"cpu\""
   ]
  },
  {
   "cell_type": "code",
   "execution_count": 2,
   "id": "8d2c845e",
   "metadata": {},
   "outputs": [],
   "source": [
    "os.chdir(\"..\")\n",
    "from utils import data_utils"
   ]
  },
  {
   "cell_type": "code",
   "execution_count": 7,
   "id": "79ea6b65",
   "metadata": {},
   "outputs": [
    {
     "name": "stdout",
     "output_type": "stream",
     "text": [
      "Loaded image from ./data/AID_commercial_104.jpg\n",
      "Converted to tensor: shape=(3, 600, 600)\n"
     ]
    }
   ],
   "source": [
    "image_path = \"./data/AID_commercial_104.jpg\"\n",
    "# Check if the file exists and load the image using OpenCV first\n",
    "if not os.path.isfile(image_path):\n",
    "    print(f\"Error: File not found at {image_path}\")\n",
    "else:\n",
    "    img = cv.imread(image_path, cv.IMREAD_COLOR)\n",
    "    if img is None:\n",
    "        print(f\"Error: Failed to load image from {image_path}\")\n",
    "    else:\n",
    "        print(f\"Loaded image from {image_path}\")\n",
    "        img_t = TF.to_tensor(cv.cvtColor(img, cv.COLOR_BGR2RGB)).float()\n",
    "        print(f\"Converted to tensor: shape={tuple(img_t.shape)}\")"
   ]
  },
  {
   "cell_type": "code",
   "execution_count": 8,
   "id": "8a0d8fc3",
   "metadata": {},
   "outputs": [],
   "source": [
    "img_patches,_ = data_utils.sliding_window_crop_batched(img)"
   ]
  }
 ],
 "metadata": {
  "kernelspec": {
   "display_name": "classical_sr",
   "language": "python",
   "name": "python3"
  },
  "language_info": {
   "codemirror_mode": {
    "name": "ipython",
    "version": 3
   },
   "file_extension": ".py",
   "mimetype": "text/x-python",
   "name": "python",
   "nbconvert_exporter": "python",
   "pygments_lexer": "ipython3",
   "version": "3.11.14"
  }
 },
 "nbformat": 4,
 "nbformat_minor": 5
}
